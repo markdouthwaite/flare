{
 "cells": [
  {
   "cell_type": "code",
   "execution_count": 100,
   "metadata": {
    "ExecuteTime": {
     "end_time": "2023-10-29T08:20:34.950946Z",
     "start_time": "2023-10-29T08:20:34.076770Z"
    }
   },
   "outputs": [
    {
     "data": {
      "text/plain": "                                     id  \\\n0  45445160-a2dd-437e-b7ce-8a0d32da4e23   \n1  e625534c-4792-4a64-964e-3559349eb66c   \n2  46878b47-b242-4c8d-9300-855fbb225947   \n3  d7fc273a-ce2c-42b7-9bb3-c6ccb1ca3413   \n4  896542c4-ad6b-46e0-9b9e-aba6cfa13838   \n\n                                                 url provider  \\\n0          https://api.github.com/repos/didi/logbook   github   \n1  https://api.github.com/repos/scofield7419/THOR...   github   \n2  https://api.github.com/repos/scofield7419/LAGC...   github   \n3  https://api.github.com/repos/scofield7419/DiaR...   github   \n4    https://api.github.com/repos/kdoctor-io/kdoctor   github   \n\n                                            metadata  \\\n0  {\"created_at\":\"2022-01-12T08:29:01Z\",\"descript...   \n1  {\"created_at\":\"2023-05-18T13:06:06Z\",\"descript...   \n2  {\"created_at\":\"2023-06-11T12:57:26Z\",\"descript...   \n3  {\"created_at\":\"2022-04-24T08:25:20Z\",\"descript...   \n4  {\"created_at\":\"2023-06-05T03:59:18Z\",\"descript...   \n\n                                             content  \\\n0  {\"readme\":\"# logbook 简介\\nlogbook 是一款面向 ToB 业务的...   \n1  {\"readme\":\"## ����‍♀️⚡⚒️ THOR: Three-hop Reaso...   \n2  {\"readme\":\"# LAGCN SRL Pointer\\nThis repositor...   \n3  {\"readme\":\"**Python implementation of IJCAI 20...   \n4  {\"readme\":\"# kdoctor\\n[![Auto Release Version]...   \n\n                           statistics                               load_id  \\\n0  {\"forks\":9,\"issues\":0,\"stars\":103}  203ac5aa-fb5c-4f4b-ad54-8ce27ddd0622   \n1  {\"forks\":1,\"issues\":0,\"stars\":104}  203ac5aa-fb5c-4f4b-ad54-8ce27ddd0622   \n2   {\"forks\":0,\"issues\":0,\"stars\":50}  203ac5aa-fb5c-4f4b-ad54-8ce27ddd0622   \n3   {\"forks\":0,\"issues\":0,\"stars\":53}  203ac5aa-fb5c-4f4b-ad54-8ce27ddd0622   \n4  {\"forks\":10,\"issues\":6,\"stars\":62}  203ac5aa-fb5c-4f4b-ad54-8ce27ddd0622   \n\n  load_label             load_ts  load_date  \\\n0       None 2023-06-16 00:38:04 2023-06-16   \n1       None 2023-06-16 00:38:04 2023-06-16   \n2       None 2023-06-16 00:38:04 2023-06-16   \n3       None 2023-06-16 00:38:04 2023-06-16   \n4       None 2023-06-16 00:38:04 2023-06-16   \n\n                                               _text  \n0  # logbook 简介\\nlogbook 是一款面向 ToB 业务的服务端埋点方案\\n\\n...  \n1  ## ����‍♀️⚡⚒️ THOR: Three-hop Reasoning for Im...  \n2  # LAGCN SRL Pointer\\nThis repository includes ...  \n3  **Python implementation of IJCAI 2022 Paper [G...  \n4  # kdoctor\\n[![Auto Release Version](https://gi...  ",
      "text/html": "<div>\n<style scoped>\n    .dataframe tbody tr th:only-of-type {\n        vertical-align: middle;\n    }\n\n    .dataframe tbody tr th {\n        vertical-align: top;\n    }\n\n    .dataframe thead th {\n        text-align: right;\n    }\n</style>\n<table border=\"1\" class=\"dataframe\">\n  <thead>\n    <tr style=\"text-align: right;\">\n      <th></th>\n      <th>id</th>\n      <th>url</th>\n      <th>provider</th>\n      <th>metadata</th>\n      <th>content</th>\n      <th>statistics</th>\n      <th>load_id</th>\n      <th>load_label</th>\n      <th>load_ts</th>\n      <th>load_date</th>\n      <th>_text</th>\n    </tr>\n  </thead>\n  <tbody>\n    <tr>\n      <th>0</th>\n      <td>45445160-a2dd-437e-b7ce-8a0d32da4e23</td>\n      <td>https://api.github.com/repos/didi/logbook</td>\n      <td>github</td>\n      <td>{\"created_at\":\"2022-01-12T08:29:01Z\",\"descript...</td>\n      <td>{\"readme\":\"# logbook 简介\\nlogbook 是一款面向 ToB 业务的...</td>\n      <td>{\"forks\":9,\"issues\":0,\"stars\":103}</td>\n      <td>203ac5aa-fb5c-4f4b-ad54-8ce27ddd0622</td>\n      <td>None</td>\n      <td>2023-06-16 00:38:04</td>\n      <td>2023-06-16</td>\n      <td># logbook 简介\\nlogbook 是一款面向 ToB 业务的服务端埋点方案\\n\\n...</td>\n    </tr>\n    <tr>\n      <th>1</th>\n      <td>e625534c-4792-4a64-964e-3559349eb66c</td>\n      <td>https://api.github.com/repos/scofield7419/THOR...</td>\n      <td>github</td>\n      <td>{\"created_at\":\"2023-05-18T13:06:06Z\",\"descript...</td>\n      <td>{\"readme\":\"## ����‍♀️⚡⚒️ THOR: Three-hop Reaso...</td>\n      <td>{\"forks\":1,\"issues\":0,\"stars\":104}</td>\n      <td>203ac5aa-fb5c-4f4b-ad54-8ce27ddd0622</td>\n      <td>None</td>\n      <td>2023-06-16 00:38:04</td>\n      <td>2023-06-16</td>\n      <td>## ����‍♀️⚡⚒️ THOR: Three-hop Reasoning for Im...</td>\n    </tr>\n    <tr>\n      <th>2</th>\n      <td>46878b47-b242-4c8d-9300-855fbb225947</td>\n      <td>https://api.github.com/repos/scofield7419/LAGC...</td>\n      <td>github</td>\n      <td>{\"created_at\":\"2023-06-11T12:57:26Z\",\"descript...</td>\n      <td>{\"readme\":\"# LAGCN SRL Pointer\\nThis repositor...</td>\n      <td>{\"forks\":0,\"issues\":0,\"stars\":50}</td>\n      <td>203ac5aa-fb5c-4f4b-ad54-8ce27ddd0622</td>\n      <td>None</td>\n      <td>2023-06-16 00:38:04</td>\n      <td>2023-06-16</td>\n      <td># LAGCN SRL Pointer\\nThis repository includes ...</td>\n    </tr>\n    <tr>\n      <th>3</th>\n      <td>d7fc273a-ce2c-42b7-9bb3-c6ccb1ca3413</td>\n      <td>https://api.github.com/repos/scofield7419/DiaR...</td>\n      <td>github</td>\n      <td>{\"created_at\":\"2022-04-24T08:25:20Z\",\"descript...</td>\n      <td>{\"readme\":\"**Python implementation of IJCAI 20...</td>\n      <td>{\"forks\":0,\"issues\":0,\"stars\":53}</td>\n      <td>203ac5aa-fb5c-4f4b-ad54-8ce27ddd0622</td>\n      <td>None</td>\n      <td>2023-06-16 00:38:04</td>\n      <td>2023-06-16</td>\n      <td>**Python implementation of IJCAI 2022 Paper [G...</td>\n    </tr>\n    <tr>\n      <th>4</th>\n      <td>896542c4-ad6b-46e0-9b9e-aba6cfa13838</td>\n      <td>https://api.github.com/repos/kdoctor-io/kdoctor</td>\n      <td>github</td>\n      <td>{\"created_at\":\"2023-06-05T03:59:18Z\",\"descript...</td>\n      <td>{\"readme\":\"# kdoctor\\n[![Auto Release Version]...</td>\n      <td>{\"forks\":10,\"issues\":6,\"stars\":62}</td>\n      <td>203ac5aa-fb5c-4f4b-ad54-8ce27ddd0622</td>\n      <td>None</td>\n      <td>2023-06-16 00:38:04</td>\n      <td>2023-06-16</td>\n      <td># kdoctor\\n[![Auto Release Version](https://gi...</td>\n    </tr>\n  </tbody>\n</table>\n</div>"
     },
     "execution_count": 100,
     "metadata": {},
     "output_type": "execute_result"
    }
   ],
   "source": [
    "import json\n",
    "import pandas as pd\n",
    "\n",
    "\n",
    "def unpack_content(row, max_char=4112):\n",
    "    packed_content = json.loads(row.content)\n",
    "    match row.provider:\n",
    "        case \"github\":\n",
    "            unpacked_content = packed_content.get(\"readme\", \"\")\n",
    "        case \"hacker_news\" | \"arxiv\":\n",
    "            unpacked_content = packed_content.get(\"text\", \"\")\n",
    "        case _:\n",
    "            unpacked_content = \"\"\n",
    "    unpacked_content = unpacked_content or \"\"\n",
    "    return unpacked_content[:max_char]\n",
    "\n",
    "\n",
    "content = pd.read_parquet(\"data/content-sample.parquet\")\n",
    "content[\"_text\"] = content.apply(unpack_content, axis=1, max_char=1028)\n",
    "content = content[content[\"_text\"].apply(lambda _: len(_) > 250)]\n",
    "content.head()"
   ]
  },
  {
   "cell_type": "markdown",
   "source": [],
   "metadata": {
    "collapsed": false
   }
  },
  {
   "cell_type": "code",
   "execution_count": 102,
   "metadata": {
    "ExecuteTime": {
     "end_time": "2023-10-29T08:21:26.170263Z",
     "start_time": "2023-10-29T08:21:26.159819Z"
    }
   },
   "outputs": [
    {
     "data": {
      "text/plain": "((6257, 11),\n array(['github', 'hacker_news', 'arxiv'], dtype=object),\n (1109, 11))"
     },
     "execution_count": 102,
     "metadata": {},
     "output_type": "execute_result"
    }
   ],
   "source": [
    "content.shape, content.provider.unique()"
   ]
  },
  {
   "cell_type": "code",
   "execution_count": 103,
   "outputs": [
    {
     "data": {
      "text/plain": "['45445160-a2dd-437e-b7ce-8a0d32da4e23',\n 'e625534c-4792-4a64-964e-3559349eb66c',\n '46878b47-b242-4c8d-9300-855fbb225947',\n 'd7fc273a-ce2c-42b7-9bb3-c6ccb1ca3413',\n '896542c4-ad6b-46e0-9b9e-aba6cfa13838',\n '861baf10-312f-4ff3-b435-19009a8c7b07',\n '33d557cb-ac6f-4d36-9a95-4b867541a0b8',\n '03efd920-2d87-4872-a7dd-011afd92ea8a',\n '8e3e39fe-bf5c-494b-aa88-3276a067cc9a',\n '042399be-e69d-417e-b17d-6eca76fab74b']"
     },
     "execution_count": 103,
     "metadata": {},
     "output_type": "execute_result"
    }
   ],
   "source": [
    "from qdrant_client import QdrantClient\n",
    "\n",
    "client = QdrantClient(\":memory:\")\n",
    "ids = client.add(\"content\", documents=content[\"_text\"], ids=content[\"id\"], metadata=content[[\"provider\", \"url\"]].to_dict(orient=\"records\"))\n",
    "ids[:10]"
   ],
   "metadata": {
    "collapsed": false,
    "ExecuteTime": {
     "end_time": "2023-10-29T08:41:13.088782Z",
     "start_time": "2023-10-29T08:24:45.496799Z"
    }
   }
  },
  {
   "cell_type": "code",
   "execution_count": 104,
   "outputs": [
    {
     "data": {
      "text/plain": "[QueryResponse(id='5a6887d6-8220-4a5e-81fb-13a476178287', embedding=None, metadata={'document': '# Top-down learning path: Machine Learning for Software Engineers\\n\\n<p align=\"center\">\\n  <a href=\"https://github.com/ZuzooVn/machine-learning-for-software-engineers\">\\n    <img alt=\"Top-down learning path: Machine Learning for Software Engineers\" src=\"https://img.shields.io/badge/Machine%20Learning-Software%20Engineers-blue.svg\">\\n  </a>\\n  <a href=\"https://github.com/ZuzooVn/machine-learning-for-software-engineers/stargazers\">\\n    <img alt=\"GitHub stars\" src=\"https://img.shields.io/github/stars/ZuzooVn/machine-learning-for-software-engineers.svg\">\\n  </a>\\n  <a href=\"https://github.com/ZuzooVn/machine-learning-for-software-engineers/network\">\\n    <img alt=\"GitHub forks\" src=\"https://img.shields.io/github/forks/ZuzooVn/machine-learning-for-software-engineers.svg\">\\n  </a>\\n</p>\\n\\nInspired by [Coding Interview University](https://github.com/jwasham/coding-interview-university).\\n\\nTranslations: [Brazilian Portuguese](https://github.com/ZuzooVn/machine-learning-for-software-engineers/blob/master/README-pt-BR.md) | [中文版本](http', 'provider': 'github', 'url': 'https://api.github.com/repos/ZuzooVn/machine-learning-for-software-engineers'}, document='# Top-down learning path: Machine Learning for Software Engineers\\n\\n<p align=\"center\">\\n  <a href=\"https://github.com/ZuzooVn/machine-learning-for-software-engineers\">\\n    <img alt=\"Top-down learning path: Machine Learning for Software Engineers\" src=\"https://img.shields.io/badge/Machine%20Learning-Software%20Engineers-blue.svg\">\\n  </a>\\n  <a href=\"https://github.com/ZuzooVn/machine-learning-for-software-engineers/stargazers\">\\n    <img alt=\"GitHub stars\" src=\"https://img.shields.io/github/stars/ZuzooVn/machine-learning-for-software-engineers.svg\">\\n  </a>\\n  <a href=\"https://github.com/ZuzooVn/machine-learning-for-software-engineers/network\">\\n    <img alt=\"GitHub forks\" src=\"https://img.shields.io/github/forks/ZuzooVn/machine-learning-for-software-engineers.svg\">\\n  </a>\\n</p>\\n\\nInspired by [Coding Interview University](https://github.com/jwasham/coding-interview-university).\\n\\nTranslations: [Brazilian Portuguese](https://github.com/ZuzooVn/machine-learning-for-software-engineers/blob/master/README-pt-BR.md) | [中文版本](http', score=0.9068127236085362),\n QueryResponse(id='22f329ce-1932-4612-9cc6-a2eac8e86745', embedding=None, metadata={'document': \"## Textbook created for Harvard's undergraduate course in Machine Learning, CS181.\\n\\n### Current Version\\nA current version of the textbook is available [here](https://github.com/harvard-ml-courses/cs181-textbook/blob/master/Textbook.pdf).\\n\\n### Build info\\nInstall `pdflatex` on your machine, then from the `master/` directory, run `pdflatex master.tex` (which will output the compiled pdf at master.pdf).\\n\\n## Reporting Errors, Requests for Further Explanation, and Contributing\\n### Errors\\nIn the course of using this textbook, you may come upon small derivational errors or typos. If you notice one of these, please make an issue and tag it with the `Error` label, as in this [example issue](https://github.com/harvard-ml-courses/cs181-textbook/issues/1). Please be sure to note where the error is (chapter and page number).\\n\\n### Requests for Further Explanation\\nThere may be topics that are confusing or given insufficient treatment. If you feel this is the case, please make an issue and tag it with the `Request for Explanation\", 'provider': 'github', 'url': 'https://api.github.com/repos/harvard-ml-courses/cs181-textbook'}, document=\"## Textbook created for Harvard's undergraduate course in Machine Learning, CS181.\\n\\n### Current Version\\nA current version of the textbook is available [here](https://github.com/harvard-ml-courses/cs181-textbook/blob/master/Textbook.pdf).\\n\\n### Build info\\nInstall `pdflatex` on your machine, then from the `master/` directory, run `pdflatex master.tex` (which will output the compiled pdf at master.pdf).\\n\\n## Reporting Errors, Requests for Further Explanation, and Contributing\\n### Errors\\nIn the course of using this textbook, you may come upon small derivational errors or typos. If you notice one of these, please make an issue and tag it with the `Error` label, as in this [example issue](https://github.com/harvard-ml-courses/cs181-textbook/issues/1). Please be sure to note where the error is (chapter and page number).\\n\\n### Requests for Further Explanation\\nThere may be topics that are confusing or given insufficient treatment. If you feel this is the case, please make an issue and tag it with the `Request for Explanation\", score=0.9013810616093028),\n QueryResponse(id='cd03c6e8-afe5-4dad-93bc-0691df45d567', embedding=None, metadata={'document': '<div style=\"text-align: center;\">\\n    <h1><img src=\"assets/logo.png\" height=\"28px\" /> Tool Learning Papers </h1>\\n</div>\\n\\nMust-read papers on [tool learning](https://arxiv.org/abs/2304.08354) with foundation models. We also made some [slides](https://github.com/thunlp/ToolLearningPapers/tree/master/assets/tool_learning_ppt.pdf) about tool learning.\\n\\n## Content\\n\\n- [Why Tool Learning?](#why-tool-learning)\\n- [Keywords Convention](#keywords-convention)\\n- [Papers](#papers)\\n  - [Overview](#survey)\\n  - [Tool-augmented Learning](#tool-augmented-learning)\\n  - [Tool-oriented Learning](#tool-oriented-learning)\\n  - [Applications](#applications)\\n- [Contribution](#contribution)\\n  - [Contributors](#contributors)\\n  - [Contributing to this paper list](#contributing-to-this-paper-list)\\n\\n## Why Tool Learning?\\n\\nHumans possess an extraordinary ability to create and utilize tools, allowing them to overcome physical limitations and explore new frontiers. With the advent of foundation models, AI systems have the potential to be equally a', 'provider': 'github', 'url': 'https://api.github.com/repos/thunlp/ToolLearningPapers'}, document='<div style=\"text-align: center;\">\\n    <h1><img src=\"assets/logo.png\" height=\"28px\" /> Tool Learning Papers </h1>\\n</div>\\n\\nMust-read papers on [tool learning](https://arxiv.org/abs/2304.08354) with foundation models. We also made some [slides](https://github.com/thunlp/ToolLearningPapers/tree/master/assets/tool_learning_ppt.pdf) about tool learning.\\n\\n## Content\\n\\n- [Why Tool Learning?](#why-tool-learning)\\n- [Keywords Convention](#keywords-convention)\\n- [Papers](#papers)\\n  - [Overview](#survey)\\n  - [Tool-augmented Learning](#tool-augmented-learning)\\n  - [Tool-oriented Learning](#tool-oriented-learning)\\n  - [Applications](#applications)\\n- [Contribution](#contribution)\\n  - [Contributors](#contributors)\\n  - [Contributing to this paper list](#contributing-to-this-paper-list)\\n\\n## Why Tool Learning?\\n\\nHumans possess an extraordinary ability to create and utilize tools, allowing them to overcome physical limitations and explore new frontiers. With the advent of foundation models, AI systems have the potential to be equally a', score=0.8994085248792448)]"
     },
     "execution_count": 104,
     "metadata": {},
     "output_type": "execute_result"
    }
   ],
   "source": [
    "result = client.query(collection_name=\"content\", query_text=[\"a document for machine learning engineers\"], limit=3)\n",
    "result"
   ],
   "metadata": {
    "collapsed": false,
    "ExecuteTime": {
     "end_time": "2023-10-29T08:41:13.124616Z",
     "start_time": "2023-10-29T08:41:13.074455Z"
    }
   }
  }
 ],
 "metadata": {
  "kernelspec": {
   "name": "flare",
   "language": "python",
   "display_name": "flare"
  },
  "language_info": {
   "codemirror_mode": {
    "name": "ipython",
    "version": 3
   },
   "file_extension": ".py",
   "mimetype": "text/x-python",
   "name": "python",
   "nbconvert_exporter": "python",
   "pygments_lexer": "ipython3",
   "version": "3.7.8"
  }
 },
 "nbformat": 4,
 "nbformat_minor": 4
}
