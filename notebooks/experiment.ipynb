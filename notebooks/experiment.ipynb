{
 "cells": [
  {
   "cell_type": "code",
   "execution_count": 1,
   "metadata": {},
   "outputs": [
    {
     "data": {
      "text/html": [
       "<div>\n",
       "<style scoped>\n",
       "    .dataframe tbody tr th:only-of-type {\n",
       "        vertical-align: middle;\n",
       "    }\n",
       "\n",
       "    .dataframe tbody tr th {\n",
       "        vertical-align: top;\n",
       "    }\n",
       "\n",
       "    .dataframe thead th {\n",
       "        text-align: right;\n",
       "    }\n",
       "</style>\n",
       "<table border=\"1\" class=\"dataframe\">\n",
       "  <thead>\n",
       "    <tr style=\"text-align: right;\">\n",
       "      <th></th>\n",
       "      <th>id</th>\n",
       "      <th>url</th>\n",
       "      <th>provider</th>\n",
       "      <th>metadata</th>\n",
       "      <th>content</th>\n",
       "      <th>statistics</th>\n",
       "      <th>load_id</th>\n",
       "      <th>load_label</th>\n",
       "      <th>load_ts</th>\n",
       "      <th>load_date</th>\n",
       "    </tr>\n",
       "  </thead>\n",
       "  <tbody>\n",
       "    <tr>\n",
       "      <th>0</th>\n",
       "      <td>45445160-a2dd-437e-b7ce-8a0d32da4e23</td>\n",
       "      <td>https://api.github.com/repos/didi/logbook</td>\n",
       "      <td>github</td>\n",
       "      <td>{\"created_at\":\"2022-01-12T08:29:01Z\",\"descript...</td>\n",
       "      <td>{\"readme\":\"# logbook 简介\\nlogbook 是一款面向 ToB 业务的...</td>\n",
       "      <td>{\"forks\":9,\"issues\":0,\"stars\":103}</td>\n",
       "      <td>203ac5aa-fb5c-4f4b-ad54-8ce27ddd0622</td>\n",
       "      <td>None</td>\n",
       "      <td>2023-06-16 00:38:04</td>\n",
       "      <td>2023-06-16</td>\n",
       "    </tr>\n",
       "    <tr>\n",
       "      <th>1</th>\n",
       "      <td>e625534c-4792-4a64-964e-3559349eb66c</td>\n",
       "      <td>https://api.github.com/repos/scofield7419/THOR...</td>\n",
       "      <td>github</td>\n",
       "      <td>{\"created_at\":\"2023-05-18T13:06:06Z\",\"descript...</td>\n",
       "      <td>{\"readme\":\"## ����‍♀️⚡⚒️ THOR: Three-hop Reaso...</td>\n",
       "      <td>{\"forks\":1,\"issues\":0,\"stars\":104}</td>\n",
       "      <td>203ac5aa-fb5c-4f4b-ad54-8ce27ddd0622</td>\n",
       "      <td>None</td>\n",
       "      <td>2023-06-16 00:38:04</td>\n",
       "      <td>2023-06-16</td>\n",
       "    </tr>\n",
       "    <tr>\n",
       "      <th>2</th>\n",
       "      <td>46878b47-b242-4c8d-9300-855fbb225947</td>\n",
       "      <td>https://api.github.com/repos/scofield7419/LAGC...</td>\n",
       "      <td>github</td>\n",
       "      <td>{\"created_at\":\"2023-06-11T12:57:26Z\",\"descript...</td>\n",
       "      <td>{\"readme\":\"# LAGCN SRL Pointer\\nThis repositor...</td>\n",
       "      <td>{\"forks\":0,\"issues\":0,\"stars\":50}</td>\n",
       "      <td>203ac5aa-fb5c-4f4b-ad54-8ce27ddd0622</td>\n",
       "      <td>None</td>\n",
       "      <td>2023-06-16 00:38:04</td>\n",
       "      <td>2023-06-16</td>\n",
       "    </tr>\n",
       "    <tr>\n",
       "      <th>3</th>\n",
       "      <td>d7fc273a-ce2c-42b7-9bb3-c6ccb1ca3413</td>\n",
       "      <td>https://api.github.com/repos/scofield7419/DiaR...</td>\n",
       "      <td>github</td>\n",
       "      <td>{\"created_at\":\"2022-04-24T08:25:20Z\",\"descript...</td>\n",
       "      <td>{\"readme\":\"**Python implementation of IJCAI 20...</td>\n",
       "      <td>{\"forks\":0,\"issues\":0,\"stars\":53}</td>\n",
       "      <td>203ac5aa-fb5c-4f4b-ad54-8ce27ddd0622</td>\n",
       "      <td>None</td>\n",
       "      <td>2023-06-16 00:38:04</td>\n",
       "      <td>2023-06-16</td>\n",
       "    </tr>\n",
       "    <tr>\n",
       "      <th>4</th>\n",
       "      <td>896542c4-ad6b-46e0-9b9e-aba6cfa13838</td>\n",
       "      <td>https://api.github.com/repos/kdoctor-io/kdoctor</td>\n",
       "      <td>github</td>\n",
       "      <td>{\"created_at\":\"2023-06-05T03:59:18Z\",\"descript...</td>\n",
       "      <td>{\"readme\":\"# kdoctor\\n[![Auto Release Version]...</td>\n",
       "      <td>{\"forks\":10,\"issues\":6,\"stars\":62}</td>\n",
       "      <td>203ac5aa-fb5c-4f4b-ad54-8ce27ddd0622</td>\n",
       "      <td>None</td>\n",
       "      <td>2023-06-16 00:38:04</td>\n",
       "      <td>2023-06-16</td>\n",
       "    </tr>\n",
       "  </tbody>\n",
       "</table>\n",
       "</div>"
      ],
      "text/plain": [
       "                                     id  \\\n",
       "0  45445160-a2dd-437e-b7ce-8a0d32da4e23   \n",
       "1  e625534c-4792-4a64-964e-3559349eb66c   \n",
       "2  46878b47-b242-4c8d-9300-855fbb225947   \n",
       "3  d7fc273a-ce2c-42b7-9bb3-c6ccb1ca3413   \n",
       "4  896542c4-ad6b-46e0-9b9e-aba6cfa13838   \n",
       "\n",
       "                                                 url provider  \\\n",
       "0          https://api.github.com/repos/didi/logbook   github   \n",
       "1  https://api.github.com/repos/scofield7419/THOR...   github   \n",
       "2  https://api.github.com/repos/scofield7419/LAGC...   github   \n",
       "3  https://api.github.com/repos/scofield7419/DiaR...   github   \n",
       "4    https://api.github.com/repos/kdoctor-io/kdoctor   github   \n",
       "\n",
       "                                            metadata  \\\n",
       "0  {\"created_at\":\"2022-01-12T08:29:01Z\",\"descript...   \n",
       "1  {\"created_at\":\"2023-05-18T13:06:06Z\",\"descript...   \n",
       "2  {\"created_at\":\"2023-06-11T12:57:26Z\",\"descript...   \n",
       "3  {\"created_at\":\"2022-04-24T08:25:20Z\",\"descript...   \n",
       "4  {\"created_at\":\"2023-06-05T03:59:18Z\",\"descript...   \n",
       "\n",
       "                                             content  \\\n",
       "0  {\"readme\":\"# logbook 简介\\nlogbook 是一款面向 ToB 业务的...   \n",
       "1  {\"readme\":\"## ����‍♀️⚡⚒️ THOR: Three-hop Reaso...   \n",
       "2  {\"readme\":\"# LAGCN SRL Pointer\\nThis repositor...   \n",
       "3  {\"readme\":\"**Python implementation of IJCAI 20...   \n",
       "4  {\"readme\":\"# kdoctor\\n[![Auto Release Version]...   \n",
       "\n",
       "                           statistics                               load_id  \\\n",
       "0  {\"forks\":9,\"issues\":0,\"stars\":103}  203ac5aa-fb5c-4f4b-ad54-8ce27ddd0622   \n",
       "1  {\"forks\":1,\"issues\":0,\"stars\":104}  203ac5aa-fb5c-4f4b-ad54-8ce27ddd0622   \n",
       "2   {\"forks\":0,\"issues\":0,\"stars\":50}  203ac5aa-fb5c-4f4b-ad54-8ce27ddd0622   \n",
       "3   {\"forks\":0,\"issues\":0,\"stars\":53}  203ac5aa-fb5c-4f4b-ad54-8ce27ddd0622   \n",
       "4  {\"forks\":10,\"issues\":6,\"stars\":62}  203ac5aa-fb5c-4f4b-ad54-8ce27ddd0622   \n",
       "\n",
       "  load_label             load_ts  load_date  \n",
       "0       None 2023-06-16 00:38:04 2023-06-16  \n",
       "1       None 2023-06-16 00:38:04 2023-06-16  \n",
       "2       None 2023-06-16 00:38:04 2023-06-16  \n",
       "3       None 2023-06-16 00:38:04 2023-06-16  \n",
       "4       None 2023-06-16 00:38:04 2023-06-16  "
      ]
     },
     "execution_count": 1,
     "metadata": {},
     "output_type": "execute_result"
    }
   ],
   "source": [
    "import pandas as pd\n",
    "\n",
    "content = pd.read_parquet(\"data/content-sample.parquet\")\n",
    "content.head()"
   ]
  },
  {
   "cell_type": "code",
   "execution_count": 2,
   "metadata": {},
   "outputs": [
    {
     "data": {
      "text/plain": [
       "(7566, 10)"
      ]
     },
     "execution_count": 2,
     "metadata": {},
     "output_type": "execute_result"
    }
   ],
   "source": [
    "content.shape"
   ]
  },
  {
   "cell_type": "code",
   "execution_count": 1,
   "metadata": {
    "scrolled": true
   },
   "outputs": [],
   "source": []
  }
 ],
 "metadata": {
  "kernelspec": {
   "display_name": "Python 3",
   "language": "python",
   "name": "python3"
  },
  "language_info": {
   "codemirror_mode": {
    "name": "ipython",
    "version": 3
   },
   "file_extension": ".py",
   "mimetype": "text/x-python",
   "name": "python",
   "nbconvert_exporter": "python",
   "pygments_lexer": "ipython3",
   "version": "3.7.8"
  }
 },
 "nbformat": 4,
 "nbformat_minor": 4
}
